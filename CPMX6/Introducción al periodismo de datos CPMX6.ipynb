{
 "cells": [
  {
   "cell_type": "markdown",
   "metadata": {
    "slideshow": {
     "slide_type": "slide"
    }
   },
   "source": [
    "##Introducción al periodismo de datos\n",
    "###**Israel Zúñiga de la Mora**. Chief Data Officer @ ZapopanLab\n",
    "###Campus Party MX - 22/Julio/2015\n",
    "###Guadalajara, Jal.\n",
    " ![ZapopanLab](./img/zapopanlab_logo.png)"
   ]
  },
  {
   "cell_type": "markdown",
   "metadata": {
    "slideshow": {
     "slide_type": "slide"
    }
   },
   "source": [
    "\n",
    "##ZapopanLab\n",
    "![ZapopanLab](./img/ciudad.png)\n",
    "###Laboratorio de innovación cívica fomentando colaboración, datos e ideas abiertas en la ciudad de Zapopan y GDL. Acercamientos de ciencia, tecnología y sociedad.\n"
   ]
  },
  {
   "cell_type": "markdown",
   "metadata": {
    "slideshow": {
     "slide_type": "subslide"
    }
   },
   "source": [
    "## Israel Zúñiga de la Mora\n",
    "\n",
    "* Nerd since '89\n",
    "* Ingeniero en Telematica\n",
    "* Hacker en el gobierno\n",
    "![Perro](./img/perro.png)"
   ]
  },
  {
   "cell_type": "markdown",
   "metadata": {
    "slideshow": {
     "slide_type": "slide"
    }
   },
   "source": [
    "## Programa\n",
    "* Periodismo de datos\n",
    "* Datos Abiertos\n",
    "    * 5 star Open Data\n",
    "* Herramientas para datos\n",
    "* Como hacer periodismo de datos:\n",
    "    * Compila\n",
    "    * Limpia\n",
    "    * Combina\n",
    "    * Contextualiza\n",
    "    * Comunica\n",
    "* Datos en CPMX\n",
    "* Conclusiones\n",
    "* Estrategia en conjunto: Funcionarios, Periodistas, Academia"
   ]
  },
  {
   "cell_type": "markdown",
   "metadata": {
    "slideshow": {
     "slide_type": "slide"
    }
   },
   "source": [
    "## Datos Abiertos"
   ]
  },
  {
   "cell_type": "markdown",
   "metadata": {
    "slideshow": {
     "slide_type": "subslide"
    }
   },
   "source": [
    "## 5 star Open Data\n",
    "\n",
    "![5 star Open Data](./img/5star-steps.png)"
   ]
  },
  {
   "cell_type": "markdown",
   "metadata": {
    "slideshow": {
     "slide_type": "slide"
    }
   },
   "source": [
    "## Herramientas para datos"
   ]
  },
  {
   "cell_type": "markdown",
   "metadata": {
    "slideshow": {
     "slide_type": "subslide"
    }
   },
   "source": [
    "## Hoja de Calculo\n",
    "\n",
    "* LibreOffice\n",
    "* Microsoft Office\n",
    "* Google Docs\n",
    "\n",
    "## Limpieza\n",
    "\n",
    "* OpenRefine"
   ]
  },
  {
   "cell_type": "markdown",
   "metadata": {
    "slideshow": {
     "slide_type": "subslide"
    }
   },
   "source": [
    "## ...para Hackers\n",
    "\n",
    "*  R + RStudio\n",
    "*  Python + Jupyter\n",
    "*  SOFA (Statistics Open For All)\n",
    "*  D3.js\n",
    "*  MathLab\n",
    "*  IBM SPSS\n",
    "*  SAS Analytics"
   ]
  },
  {
   "cell_type": "markdown",
   "metadata": {
    "slideshow": {
     "slide_type": "subslide"
    }
   },
   "source": [
    "## Big Data\n",
    "* Hadoop (MapReduce y YARN)\n",
    "* Spark\n",
    "* Storm\n",
    "* Kafka\n",
    "* SAP Hana\n"
   ]
  },
  {
   "cell_type": "markdown",
   "metadata": {
    "slideshow": {
     "slide_type": "subslide"
    }
   },
   "source": [
    "## Visualizacion / Interactividad\n",
    "*  D3.js\n",
    "*  Tableau"
   ]
  },
  {
   "cell_type": "markdown",
   "metadata": {
    "slideshow": {
     "slide_type": "subslide"
    }
   },
   "source": [
    "## Método científico\n",
    "\n",
    "1. Observación\n",
    "2. Inducción \n",
    "3. Hipótesis\n",
    "4. Experimentación\n",
    "5. Validación\n",
    "6. Generación de teoría(s)"
   ]
  },
  {
   "cell_type": "markdown",
   "metadata": {
    "slideshow": {
     "slide_type": "slide"
    }
   },
   "source": [
    "## Periodismo de datos"
   ]
  },
  {
   "cell_type": "markdown",
   "metadata": {
    "slideshow": {
     "slide_type": "subslide"
    }
   },
   "source": [
    "## ¿Por qué los periodistas deberían usar datos?"
   ]
  },
  {
   "cell_type": "markdown",
   "metadata": {
    "slideshow": {
     "slide_type": "subslide"
    }
   },
   "source": [
    "##Compila: Obtener Datos\n",
    "\n",
    "* Reportes \n",
    "* Sitios web (Scrapping)\n",
    "* Portales de Open Data y repositorios -->> http://datos.gob.mx\n",
    "* Solicitudes de transparencia\n",
    "* APIs (Application Programming Interface) y Bases de Datos\n"
   ]
  },
  {
   "cell_type": "markdown",
   "metadata": {
    "slideshow": {
     "slide_type": "subslide"
    }
   },
   "source": [
    "## Limpia: Armonización y Normalización\n",
    "\n",
    "1. Detección de errores\n",
    "2. Correción\n",
    "\n",
    "\n",
    "[OpenRefine.Org](http://openrefine.org/)\n",
    "\n",
    "[Demo](http://127.0.0.1:3333/)\n",
    "\n",
    "![OpenRefine Logo](./img/openrefine_logo.png)"
   ]
  },
  {
   "cell_type": "markdown",
   "metadata": {
    "slideshow": {
     "slide_type": "subslide"
    }
   },
   "source": [
    "## Combina\n",
    "\n",
    "### Funciones estadísticas (Sumatorias, promedios, porcentajes)\n",
    "### Correlación de variables (tablas dinámicas)\n",
    "### Visualizaciones (clusters)"
   ]
  },
  {
   "cell_type": "markdown",
   "metadata": {
    "slideshow": {
     "slide_type": "subslide"
    }
   },
   "source": [
    "## Contextualiza: Historias basadas en datos\n",
    "\n",
    "### Soporte en visualizaciones\n",
    "### Narrativas\n",
    "### Aplicaciones\n"
   ]
  },
  {
   "cell_type": "markdown",
   "metadata": {
    "slideshow": {
     "slide_type": "subslide"
    }
   },
   "source": [
    "## Comunica: Difusión\n",
    "\n",
    "### 1. Acceso a código fuente ([Github](http://github.com), [Authorea](https://www.authorea.com/users/2/articles/50890/_show_article)) y publicacion de datasets (Github, CKAN, SOCRATA)\n",
    "### 2. Plataformas (Authorea, Github Pages, Blogs, Wordpress, [Jupyter Notebooks](http://nbviewer.ipython.org/gist/darribas/4121857))\n",
    "### 3. Aplicaciones basadas en datos [NY Times Upshot](http://www.nytimes.com/interactive/2014/upshot/buy-rent-calculator.html), [538](http://fivethirtyeight.com/features/how-many-parents-to-be-want-to-know-the-babys-sex/), etc"
   ]
  },
  {
   "cell_type": "markdown",
   "metadata": {
    "slideshow": {
     "slide_type": "slide"
    }
   },
   "source": [
    "## Datos en CPMX\n",
    "\n",
    "##http://bit.ly/listacampus"
   ]
  },
  {
   "cell_type": "markdown",
   "metadata": {
    "slideshow": {
     "slide_type": "slide"
    }
   },
   "source": [
    "## Conclusiones\n",
    "\n",
    "### Cualquier persona puede analizar datos\n",
    "### Nuevos enfoques para el periodismo\n",
    "### Actualización de nuestras capacidades\n",
    "### El periodismo de datos es el futuro"
   ]
  },
  {
   "cell_type": "markdown",
   "metadata": {
    "slideshow": {
     "slide_type": "slide"
    }
   },
   "source": [
    "## Estrategia en conjunto: Funcionarios, Periodistas, Academia"
   ]
  },
  {
   "cell_type": "markdown",
   "metadata": {
    "slideshow": {
     "slide_type": "slide"
    }
   },
   "source": [
    "## Gracias\n",
    "\n",
    "Israel Z.\n",
    "Twitter: @0xD1  // hola@israelzuniga.com // http://israelzuniga.com\n",
    "ZapopanLab: Tw/Fb: @ZapopanLab"
   ]
  }
 ],
 "metadata": {
  "celltoolbar": "Slideshow",
  "kernelspec": {
   "display_name": "Python 3",
   "language": "python",
   "name": "python3"
  },
  "language_info": {
   "codemirror_mode": {
    "name": "ipython",
    "version": 3
   },
   "file_extension": ".py",
   "mimetype": "text/x-python",
   "name": "python",
   "nbconvert_exporter": "python",
   "pygments_lexer": "ipython3",
   "version": "3.4.3"
  }
 },
 "nbformat": 4,
 "nbformat_minor": 0
}
