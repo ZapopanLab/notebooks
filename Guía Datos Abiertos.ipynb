{
 "cells": [
  {
   "cell_type": "markdown",
   "metadata": {},
   "source": [
    "* Guía de Datos Abiertos para México: http://mxabierto.github.io/guia/\n",
    "* Programa para un Gobierno cercano y moderno 2013-2018. Bases de colaboración: Lineamientos y metodologia para la liberacion de grupos de datos abiertos:\n",
    "http://www.funcionpublica.gob.mx/web/doctos/ua/ssfp/uegdg/pgcm/material/documentos/ti_3_pgcm_bases_lineam_datosabiertos.pdf]\n",
    "* DOF: 04/12/2014 ACUERDO por el que se aprueba la Norma Técnica para el acceso y publicación de Datos Abiertos de la Información Estadística y Geográfica de Interés Nacional.\n",
    "http://www.dof.gob.mx/nota_detalle.php?codigo=5374183&fecha=04/12/2014\n",
    "* DOF: 20/02/2015DECRETO por el que se establece la regulación en materia de Datos Abiertos.\n",
    "http://www.dof.gob.mx/nota_detalle.php?codigo=5382838&fecha=20/02/2015"
   ]
  },
  {
   "cell_type": "code",
   "execution_count": null,
   "metadata": {
    "collapsed": true
   },
   "outputs": [],
   "source": []
  }
 ],
 "metadata": {
  "kernelspec": {
   "display_name": "Python 3",
   "language": "python",
   "name": "python3"
  },
  "language_info": {
   "codemirror_mode": {
    "name": "ipython",
    "version": 3
   },
   "file_extension": ".py",
   "mimetype": "text/x-python",
   "name": "python",
   "nbconvert_exporter": "python",
   "pygments_lexer": "ipython3",
   "version": "3.4.3"
  }
 },
 "nbformat": 4,
 "nbformat_minor": 0
}
